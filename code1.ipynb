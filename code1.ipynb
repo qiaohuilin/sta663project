{
 "cells": [
  {
   "cell_type": "code",
   "execution_count": 3,
   "metadata": {},
   "outputs": [],
   "source": [
    "%matplotlib inline\n",
    "import matplotlib.pyplot as plt\n",
    "import numpy as np"
   ]
  },
  {
   "cell_type": "code",
   "execution_count": 4,
   "metadata": {},
   "outputs": [],
   "source": [
    "import warnings\n",
    "warnings.simplefilter(action='ignore', category=FutureWarning)\n",
    "import h5py\n",
    "warnings.resetwarnings()\n",
    "warnings.simplefilter(action='ignore', category=ImportWarning)\n",
    "warnings.simplefilter(action='ignore', category=RuntimeWarning)\n",
    "warnings.simplefilter(action='ignore', category=DeprecationWarning)\n",
    "warnings.simplefilter(action='ignore', category=ResourceWarning)"
   ]
  },
  {
   "cell_type": "code",
   "execution_count": 5,
   "metadata": {},
   "outputs": [],
   "source": [
    "from keras.datasets import mnist"
   ]
  },
  {
   "cell_type": "code",
   "execution_count": 2,
   "metadata": {},
   "outputs": [],
   "source": [
    "(train_data, train_labels), (test_data, test_labels) = mnist.load_data()"
   ]
  },
  {
   "cell_type": "code",
   "execution_count": 9,
   "metadata": {},
   "outputs": [
    {
     "data": {
      "text/plain": [
       "(60000, 28, 28)"
      ]
     },
     "execution_count": 9,
     "metadata": {},
     "output_type": "execute_result"
    }
   ],
   "source": [
    "train_data.shape"
   ]
  },
  {
   "cell_type": "code",
   "execution_count": 8,
   "metadata": {},
   "outputs": [],
   "source": [
    "x=train_data"
   ]
  },
  {
   "cell_type": "code",
   "execution_count": 18,
   "metadata": {},
   "outputs": [
    {
     "data": {
      "text/plain": [
       "(100, 28, 28)"
      ]
     },
     "execution_count": 18,
     "metadata": {},
     "output_type": "execute_result"
    }
   ],
   "source": [
    "xm.shape"
   ]
  },
  {
   "cell_type": "code",
   "execution_count": 108,
   "metadata": {},
   "outputs": [],
   "source": [
    "N=60000\n",
    "M=100\n",
    "alpha=0.01 #step size,        or 0.02, 0.1\n",
    "D=28*28 #dimension of x_i 28*28\n",
    "J=2   #dimension of z         or 5,10,20\n",
    "\n",
    "#initialize \\phi\n",
    "u=np.zeros([10000,J])  #assume 10000 iterations, can kick out empty rows if converge early\n",
    "sig2=np.zeros([10000,J])\n",
    "u[0,]=np.random.normal(0,0.01,J)\n",
    "sig2[0,]=np.random.normal(0,0.01,J)**2\n",
    "#initialize \\theta\n",
    "uprime=np.zeros([10000,D])  #assume 10000 iterations, can kick out empty rows if converge early\n",
    "sig2prime=np.zeros([10000,D])\n",
    "uprime[0,]=np.random.normal(0,0.01,D)\n",
    "sig2prime[0,]=np.random.normal(0,0.01,D)**2\n",
    "\n",
    "#set seed\n",
    "np.random.seed(123)\n",
    "L=np.zeros([10000,M])        # we want to keep the track of lower bound each iter to replicate Fig2\n",
    "LM=np.zeros(10000)           #LM with batch size M, for 10000 iter\n",
    "#maybe we can get rid of Ls if the code is slow and only keep the SGVB update"
   ]
  },
  {
   "cell_type": "code",
   "execution_count": 31,
   "metadata": {},
   "outputs": [
    {
     "data": {
      "text/plain": [
       "array([ 0.00282978, -0.01506295])"
      ]
     },
     "execution_count": 31,
     "metadata": {},
     "output_type": "execute_result"
    }
   ],
   "source": [
    "u=np.zeros([10000,J])\n",
    "u[0,]=np.random.normal(0,0.01,J)\n",
    "u[0,]"
   ]
  },
  {
   "cell_type": "code",
   "execution_count": 23,
   "metadata": {},
   "outputs": [
    {
     "data": {
      "text/plain": [
       "array([-1.0856306 ,  0.99734545])"
      ]
     },
     "execution_count": 23,
     "metadata": {},
     "output_type": "execute_result"
    }
   ],
   "source": [
    "np.random.multivariate_normal(np.zeros(J),np.eye(2))"
   ]
  },
  {
   "cell_type": "code",
   "execution_count": 35,
   "metadata": {},
   "outputs": [
    {
     "data": {
      "text/plain": [
       "array([ 0.02634477, -0.00427774])"
      ]
     },
     "execution_count": 35,
     "metadata": {},
     "output_type": "execute_result"
    }
   ],
   "source": [
    "sig2[0,]*np.random.multivariate_normal(np.zeros(J),np.eye(2))"
   ]
  },
  {
   "cell_type": "code",
   "execution_count": 48,
   "metadata": {},
   "outputs": [
    {
     "data": {
      "text/plain": [
       "array([8.00768304e-06, 2.26892377e-04])"
      ]
     },
     "execution_count": 48,
     "metadata": {},
     "output_type": "execute_result"
    }
   ],
   "source": [
    "sig2[i,]"
   ]
  },
  {
   "cell_type": "code",
   "execution_count": 49,
   "metadata": {},
   "outputs": [
    {
     "data": {
      "text/plain": [
       "array([-11.7351091 ,  -8.39103477])"
      ]
     },
     "execution_count": 49,
     "metadata": {},
     "output_type": "execute_result"
    }
   ],
   "source": [
    "np.log(sig2[i,])"
   ]
  },
  {
   "cell_type": "code",
   "execution_count": 50,
   "metadata": {},
   "outputs": [
    {
     "data": {
      "text/plain": [
       "-20.126143862822957"
      ]
     },
     "execution_count": 50,
     "metadata": {},
     "output_type": "execute_result"
    }
   ],
   "source": [
    "i=0\n",
    "sum(np.log(sig2[i,]))"
   ]
  },
  {
   "cell_type": "code",
   "execution_count": 51,
   "metadata": {},
   "outputs": [
    {
     "data": {
      "text/plain": [
       "array([3.18640852e+03, 2.04153235e+04, 1.16253850e+04, 3.31682106e+05,\n",
       "       1.23468416e+09, 2.11126136e+04, 1.29268414e+04, 1.24309370e+05,\n",
       "       1.54174610e+04, 3.35026122e+03, 6.54438917e+04, 3.03717655e+04,\n",
       "       8.72276515e+04, 7.14486793e+07, 1.74720966e+03, 5.86522469e+04,\n",
       "       1.04392397e+04, 1.99629264e+03, 5.97137268e+03, 9.26714538e+03,\n",
       "       3.28889778e+03, 1.57009502e+04, 1.13495248e+07, 8.74556545e+03,\n",
       "       1.26046521e+04, 3.24714806e+03, 4.47036984e+03, 8.74431098e+03])"
      ]
     },
     "execution_count": 51,
     "metadata": {},
     "output_type": "execute_result"
    }
   ],
   "source": [
    "sig2prime[i,]**(-1)"
   ]
  },
  {
   "cell_type": "code",
   "execution_count": 56,
   "metadata": {},
   "outputs": [
    {
     "data": {
      "text/plain": [
       "(28, 28)"
      ]
     },
     "execution_count": 56,
     "metadata": {},
     "output_type": "execute_result"
    }
   ],
   "source": [
    "xm[i,].shape"
   ]
  },
  {
   "cell_type": "code",
   "execution_count": 55,
   "metadata": {},
   "outputs": [
    {
     "data": {
      "text/plain": [
       "(28, 28)"
      ]
     },
     "execution_count": 55,
     "metadata": {},
     "output_type": "execute_result"
    }
   ],
   "source": [
    "((xm[i,]-uprime[i,])**2).shape#*sig2prime[i,]**(-1)"
   ]
  },
  {
   "cell_type": "code",
   "execution_count": 72,
   "metadata": {},
   "outputs": [
    {
     "data": {
      "text/plain": [
       "320537132.2139021"
      ]
     },
     "execution_count": 72,
     "metadata": {},
     "output_type": "execute_result"
    }
   ],
   "source": [
    "u_temp=np.random.normal(0,0.01,[M,J])\n",
    "sig2_temp=np.random.normal(0,0.01,[M,J])**2\n",
    "sum(u_temp[:,1])\n",
    "eps=np.random.multivariate_normal(np.zeros(J),np.eye(2))\n",
    "u_temp[i,]+sig2_temp[i,]*eps\n",
    "sum(u_temp[i,])\n",
    "sum(1/sig2_temp[:,1]-1)"
   ]
  },
  {
   "cell_type": "code",
   "execution_count": 109,
   "metadata": {},
   "outputs": [],
   "source": [
    "u_temp=np.random.normal(0,0.01,[M,J])\n",
    "sig2_temp=np.random.normal(0,0.01,[M,J])**2\n",
    "uprime_temp=np.random.normal(0,0.01,[M,D])\n",
    "sig2prime_temp=np.random.normal(0,0.01,[M,D])**2"
   ]
  },
  {
   "cell_type": "code",
   "execution_count": 110,
   "metadata": {},
   "outputs": [
    {
     "data": {
      "text/plain": [
       "(100, 784)"
      ]
     },
     "execution_count": 110,
     "metadata": {},
     "output_type": "execute_result"
    }
   ],
   "source": [
    "uprime_temp.shape"
   ]
  },
  {
   "cell_type": "code",
   "execution_count": 92,
   "metadata": {},
   "outputs": [
    {
     "data": {
      "text/plain": [
       "-517454.81495356164"
      ]
     },
     "execution_count": 92,
     "metadata": {},
     "output_type": "execute_result"
    }
   ],
   "source": [
    "d=1\n",
    "sum(1/sig2prime_temp[:,d]*(xmresp[:,d]-uprime_temp[:,d]))"
   ]
  },
  {
   "cell_type": "code",
   "execution_count": 94,
   "metadata": {},
   "outputs": [
    {
     "data": {
      "text/plain": [
       "(100,)"
      ]
     },
     "execution_count": 94,
     "metadata": {},
     "output_type": "execute_result"
    }
   ],
   "source": [
    "(1/sig2prime_temp[:,d]*(xmresp[:,d]-uprime_temp[:,d])).shape"
   ]
  },
  {
   "cell_type": "code",
   "execution_count": 87,
   "metadata": {},
   "outputs": [
    {
     "data": {
      "text/plain": [
       "(100, 784)"
      ]
     },
     "execution_count": 87,
     "metadata": {},
     "output_type": "execute_result"
    }
   ],
   "source": [
    "xm.reshape(100,-1).shape"
   ]
  },
  {
   "cell_type": "code",
   "execution_count": 85,
   "metadata": {},
   "outputs": [
    {
     "data": {
      "text/plain": [
       "(784, 1)"
      ]
     },
     "execution_count": 85,
     "metadata": {},
     "output_type": "execute_result"
    }
   ],
   "source": [
    "xm[i,].reshape(-1,1).shape"
   ]
  },
  {
   "cell_type": "code",
   "execution_count": 96,
   "metadata": {},
   "outputs": [
    {
     "data": {
      "text/plain": [
       "51.46055785946167"
      ]
     },
     "execution_count": 96,
     "metadata": {},
     "output_type": "execute_result"
    }
   ],
   "source": [
    "D*np.log(2*np.pi)"
   ]
  },
  {
   "cell_type": "code",
   "execution_count": 91,
   "metadata": {},
   "outputs": [],
   "source": [
    "xmresp=xm.reshape(M,-1) "
   ]
  },
  {
   "cell_type": "code",
   "execution_count": 99,
   "metadata": {},
   "outputs": [],
   "source": [
    "t=0"
   ]
  },
  {
   "cell_type": "code",
   "execution_count": 101,
   "metadata": {},
   "outputs": [
    {
     "data": {
      "text/plain": [
       "109.62274446344071"
      ]
     },
     "execution_count": 101,
     "metadata": {},
     "output_type": "execute_result"
    }
   ],
   "source": [
    "1/2 * (1+sum(np.log(sig2_temp[i,]))-sum(u_temp[i,])-sum(sig2_temp[i,])) - 1/2* (D*np.log(2*np.pi)+sum(np.log(sig2prime_temp[i,])))"
   ]
  },
  {
   "cell_type": "code",
   "execution_count": 111,
   "metadata": {},
   "outputs": [
    {
     "data": {
      "text/plain": [
       "(784,)"
      ]
     },
     "execution_count": 111,
     "metadata": {},
     "output_type": "execute_result"
    }
   ],
   "source": [
    "uprime_temp[i,].shape"
   ]
  },
  {
   "cell_type": "code",
   "execution_count": 112,
   "metadata": {},
   "outputs": [
    {
     "data": {
      "text/plain": [
       "-36849881184799.125"
      ]
     },
     "execution_count": 112,
     "metadata": {},
     "output_type": "execute_result"
    }
   ],
   "source": [
    "- 1/2 * sum((xmresp[i,]-uprime_temp[i,])**2*1/sig2prime_temp[i,])"
   ]
  },
  {
   "cell_type": "code",
   "execution_count": 121,
   "metadata": {},
   "outputs": [
    {
     "data": {
      "text/plain": [
       "-858043966.4906757"
      ]
     },
     "execution_count": 121,
     "metadata": {},
     "output_type": "execute_result"
    }
   ],
   "source": [
    "j=1\n",
    "alpha*N/M*(-sum(u_temp[:,j]))\n",
    "alpha*N/M*(1/2)*sum(1/sig2_temp[:,j]-1)\n",
    "alpha*N/M*sum(1/sig2prime_temp[:,d]*(xmresp[:,d]-uprime_temp[:,d]))\n",
    "alpha*N/M*sum(1/2 * (1/sig2prime_temp[:,d]*((xmresp[:,d]-uprime_temp[:,d])**2-1)))"
   ]
  },
  {
   "cell_type": "code",
   "execution_count": 122,
   "metadata": {},
   "outputs": [
    {
     "name": "stdout",
     "output_type": "stream",
     "text": [
      "0\n"
     ]
    }
   ],
   "source": [
    "if (2>1)&(1>0):\n",
    "    print(0)"
   ]
  },
  {
   "cell_type": "code",
   "execution_count": 17,
   "metadata": {},
   "outputs": [],
   "source": [
    "#repeat until converge\n",
    "t=0\n",
    "xm=x[np.random.randint(0,N-1,M),]\n",
    "xmresp=xm.reshape(M,-1)      #reshape the xi from matrix 28*28 to a row vector 1*784\n",
    "u_temp=np.random.normal(0,0.01,[M,J])\n",
    "sig2_temp=np.random.normal(0,0.01,[M,J])**2\n",
    "uprime_temp=np.random.normal(0,0.01,[M,D])\n",
    "sig2prime_temp=np.random.normal(0,0.01,[M,D])**2\n",
    "\n",
    "for i in range(M):\n",
    "    # MLP use x_i to get \\phi_t(i) u_temp[i,] and sig2_temp[i,], which is same dimension as z (J)\n",
    "    eps=np.random.multivariate_normal(np.zeros(J),np.eye(2))\n",
    "    z=u_temp[i,]+sig2_temp[i,]*eps\n",
    "    # MLP use z_i to get \\theta_t(i) uprime_temp[i,] and sig2prime_temp[i,], which is same dimension as x(D)\n",
    "    L[t,i]=1/2 * (1+sum(np.log(sig2_temp[i,]))-sum(u_temp[i,])-sum(sig2_temp[i,])) - 1/2* (D*np.log(2*np.pi)+sum(np.log(sig2prime_temp[i,])))- 1/2 * sum((xmresp[i,]-uprime_temp[i,])**2*1/sig2prime_temp[i,])\n",
    "LM[t]=N/M*sum(L[t,])\n",
    "for j in range(J):\n",
    "    u[t+1,j]=u[t,j]- alpha*N/M*(-sum(u_temp[:,j]))    # to confirm it's minus?? gradient descent. the written part says ascent\n",
    "    sig2[t+1,j]=sig2[t,j] -alpha*N/M*(1/2)*sum(1/sig2_temp[:,j]-1)\n",
    "for d in range(D):\n",
    "    uprime[t+1,d]=uprime[t,d]-alpha*N/M*sum(1/sig2prime_temp[:,d]*(xmresp[:,d]-uprime_temp[:,d]))\n",
    "    sig2prime[t+1,d]=sig2prime[t,d]-alpha*N/M*sum(1/2 * (1/sig2prime_temp[:,d]*((xmresp[:,d]-uprime_temp[:,d])**2-1)))"
   ]
  },
  {
   "cell_type": "code",
   "execution_count": 17,
   "metadata": {},
   "outputs": [],
   "source": [
    "while True:\n",
    "    t=0\n",
    "    xm=x[np.random.randint(0,N-1,M),]\n",
    "    xmresp=xm.reshape(M,-1)      #reshape the xi from matrix 28*28 to a row vector 1*784\n",
    "    u_temp=np.random.normal(0,0.01,[M,J])\n",
    "    sig2_temp=np.random.normal(0,0.01,[M,J])**2\n",
    "    uprime_temp=np.random.normal(0,0.01,[M,D])\n",
    "    sig2prime_temp=np.random.normal(0,0.01,[M,D])**2\n",
    "    \n",
    "    for i in range(M):\n",
    "        # MLP use x_i to get \\phi_t(i) u_temp[i,] and sig2_temp[i,], which is same dimension as z (J)\n",
    "        eps=np.random.multivariate_normal(np.zeros(J),np.eye(2))\n",
    "        z=u_temp[i,]+sig2_temp[i,]*eps\n",
    "        # MLP use z_i to get \\theta_t(i) uprime_temp[i,] and sig2prime_temp[i,], which is same dimension as x(D)\n",
    "        L[t,i]=1/2 * (1+sum(np.log(sig2_temp[i,]))-sum(u_temp[i,])-sum(sig2_temp[i,])) - 1/2* (D*np.log(2*np.pi)+sum(np.log(sig2prime_temp[i,])))- 1/2 * sum((xmresp[i,]-uprime_temp[i,])**2*1/sig2prime_temp[i,])\n",
    "        LM[t]=N/M*sum(L[t,])\n",
    "        \n",
    "    for j in range(J):\n",
    "        u[t+1,j]=u[t,j]- alpha*N/M*(-sum(u_temp[:,j]))    # to confirm it's minus?? gradient descent. the written part says ascent\n",
    "        sig2[t+1,j]=sig2[t,j] -alpha*N/M*(1/2)*sum(1/sig2_temp[:,j]-1)\n",
    "    \n",
    "    for d in range(D):\n",
    "        uprime[t+1,d]=uprime[t,d]-alpha*N/M*sum(1/sig2prime_temp[:,d]*(xmresp[:,d]-uprime_temp[:,d]))\n",
    "        sig2prime[t+1,d]=sig2prime[t,d]-alpha*N/M*sum(1/2 * (1/sig2prime_temp[:,d]*((xmresp[:,d]-uprime_temp[:,d])**2-1)))\n",
    "        \n",
    "    if (np.norm(u[t+1,]-u[t,])<1e-6) & (np.norm(sig2[t+1,]-sig2[t,])<1e-6) & (np.norm(uprime[t+1,]-uprime[t,])<1e-6) & (np.norm(sig2prime[t+1,]-sig2prime[t,])<1e-6):\n",
    "        break\n",
    "    \n",
    "    t=t+1"
   ]
  },
  {
   "cell_type": "code",
   "execution_count": null,
   "metadata": {},
   "outputs": [],
   "source": []
  }
 ],
 "metadata": {
  "kernelspec": {
   "display_name": "Python 3",
   "language": "python",
   "name": "python3"
  },
  "language_info": {
   "codemirror_mode": {
    "name": "ipython",
    "version": 3
   },
   "file_extension": ".py",
   "mimetype": "text/x-python",
   "name": "python",
   "nbconvert_exporter": "python",
   "pygments_lexer": "ipython3",
   "version": "3.6.5"
  }
 },
 "nbformat": 4,
 "nbformat_minor": 2
}
