{
 "cells": [
  {
   "cell_type": "code",
   "execution_count": 1,
   "metadata": {},
   "outputs": [],
   "source": [
    "%matplotlib inline\n",
    "import matplotlib.pyplot as plt\n",
    "import numpy as np\n",
    "import sklearn.preprocessing\n",
    "import sklearn.neural_network"
   ]
  },
  {
   "cell_type": "code",
   "execution_count": 2,
   "metadata": {},
   "outputs": [],
   "source": [
    "import warnings\n",
    "warnings.simplefilter(action='ignore', category=FutureWarning)\n",
    "import h5py\n",
    "warnings.resetwarnings()\n",
    "warnings.simplefilter(action='ignore', category=ImportWarning)\n",
    "warnings.simplefilter(action='ignore', category=RuntimeWarning)\n",
    "warnings.simplefilter(action='ignore', category=DeprecationWarning)\n",
    "warnings.simplefilter(action='ignore', category=ResourceWarning)"
   ]
  },
  {
   "cell_type": "code",
   "execution_count": 3,
   "metadata": {},
   "outputs": [
    {
     "name": "stderr",
     "output_type": "stream",
     "text": [
      "WARNING (theano.configdefaults): install mkl with `conda install mkl-service`: No module named 'mkl'\n"
     ]
    }
   ],
   "source": [
    "import theano\n",
    "import theano.tensor as T"
   ]
  },
  {
   "cell_type": "code",
   "execution_count": 4,
   "metadata": {},
   "outputs": [],
   "source": [
    "def sgd(cost, params, lr=0.001, epsilon=1e-6):\n",
    "    grads = T.grad(cost=cost, wrt=params)\n",
    "    updates = []\n",
    "    for p, g in zip(params, grads):\n",
    "        updates.append((p, p - lr * g))\n",
    "    return updates"
   ]
  },
  {
   "cell_type": "code",
   "execution_count": 5,
   "metadata": {},
   "outputs": [],
   "source": [
    "def sgd_momentum(cost, params, lr=0.001, beta=0.9,epsilon=1e-6):  #no bias correction\n",
    "    grads = T.grad(cost=cost, wrt=params)\n",
    "    updates = []\n",
    "    for p, g in zip(params, grads):\n",
    "        v= theano.shared(p.get_value() * 0.)\n",
    "        vc= beta*v + (1-beta)*g\n",
    "        updates.append((v,vc))\n",
    "        updates.append((p, p - lr * vc))\n",
    "    return updates"
   ]
  },
  {
   "cell_type": "code",
   "execution_count": 6,
   "metadata": {},
   "outputs": [],
   "source": [
    "def adagrad(cost, params, lr=0.001, epsilon=1e-6):\n",
    "    grads = T.grad(cost=cost, wrt=params)\n",
    "    updates = []\n",
    "    for p, g in zip(params, grads):\n",
    "        acc = theano.shared(p.get_value() * 0.)\n",
    "        acc_new = acc + g ** 2\n",
    "        gradient_scaling = T.sqrt(acc_new + epsilon)\n",
    "        g = g / gradient_scaling\n",
    "        updates.append((acc, acc_new))\n",
    "        updates.append((p, p - lr * g))\n",
    "    return updates"
   ]
  },
  {
   "cell_type": "code",
   "execution_count": 7,
   "metadata": {},
   "outputs": [],
   "source": [
    "def adam(cost, params, lr=0.001, epsilon=1e-6):  #no bias correction, T.sqrt if **0.5 not work\n",
    "    grads = T.grad(cost=cost, wrt=params)\n",
    "    updates = []\n",
    "    for p, g in zip(params, grads):\n",
    "        m=theano.shared(p.get_value()* 0.)\n",
    "        v=theano.shared(p.get_value()* 0.)\n",
    "        mc = beta1*m + (1-beta1)*grad(x)\n",
    "        vc = beta2*v + (1-beta2)*grad(x)**2\n",
    "        updates.append((m,mc))\n",
    "        updates.append((v,vc))\n",
    "        updates.append((p, p - lr * mc/(epsilon+vc**0.5)))\n",
    "    return updates"
   ]
  },
  {
   "cell_type": "code",
   "execution_count": 8,
   "metadata": {},
   "outputs": [],
   "source": [
    "def RMSprop(cost, params, lr=0.001, beta=0.9,epsilon=1e-6):\n",
    "    grads = T.grad(cost=cost, wrt=params)\n",
    "    updates = []\n",
    "    for p, g in zip(params, grads):\n",
    "        v= theano.shared(p.get_value() * 0.)\n",
    "        vc = beta*v + (1-beta)*g**2\n",
    "        updates.append((v,vc))\n",
    "        updates.append((p, p - lr * g/(epsilon+vc**(0.5))))\n",
    "    return updates"
   ]
  },
  {
   "cell_type": "code",
   "execution_count": 9,
   "metadata": {},
   "outputs": [],
   "source": [
    "import pickle, gzip\n",
    "f = gzip.open('mnist.pkl.gz','rb')\n",
    "train_set, valid_set, test_set = pickle.load(f,encoding='latin-1')\n",
    "f.close()"
   ]
  },
  {
   "cell_type": "code",
   "execution_count": 11,
   "metadata": {},
   "outputs": [],
   "source": [
    "train_set[0][train_set[0]>=0.5]=1\n",
    "train_set[0][train_set[0]<0.5]=0"
   ]
  },
  {
   "cell_type": "code",
   "execution_count": 12,
   "metadata": {},
   "outputs": [],
   "source": [
    "valid_set[0][valid_set[0]>=0.5]=1\n",
    "valid_set[0][valid_set[0]<0.5]=0"
   ]
  },
  {
   "cell_type": "code",
   "execution_count": 13,
   "metadata": {},
   "outputs": [],
   "source": [
    "test_set[0][test_set[0]>=0.5]=1\n",
    "test_set[0][test_set[0]<0.5]=0"
   ]
  },
  {
   "cell_type": "code",
   "execution_count": 14,
   "metadata": {},
   "outputs": [],
   "source": [
    "x_train=theano.function([], T.concatenate([train_set[0], valid_set[0]]))()"
   ]
  },
  {
   "cell_type": "code",
   "execution_count": 15,
   "metadata": {},
   "outputs": [],
   "source": [
    "x_test = theano.function([], theano.shared(test_set[0]))()"
   ]
  },
  {
   "cell_type": "code",
   "execution_count": 16,
   "metadata": {},
   "outputs": [],
   "source": [
    "n_hidden = 100 # the size of hidden layers in MLP\n",
    "n_latent = 2 # the dimension of z\n",
    "n_input = x_train.shape[1] # the dimension of x's feature space\n",
    "batch_size = 100\n",
    "n_epochs = 10000"
   ]
  },
  {
   "cell_type": "code",
   "execution_count": 17,
   "metadata": {},
   "outputs": [],
   "source": [
    "def init_w(shape):\n",
    "    x = np.random.randn(*shape)\n",
    "    float_x = np.asarray(x * 0.01, dtype=theano.config.floatX)\n",
    "    return theano.shared(float_x)"
   ]
  },
  {
   "cell_type": "code",
   "execution_count": 18,
   "metadata": {},
   "outputs": [],
   "source": [
    "# Parameters\n",
    "# Gaussian MLP weights and biases (encoder)\n",
    "#initialize \\phi \n",
    "\n",
    "b3 = init_w((n_hidden, ))\n",
    "b2 = init_w((n_latent, ))\n",
    "b1 = init_w((n_latent, ))\n",
    "\n",
    "\n",
    "W3 = init_w((n_input, n_hidden))\n",
    "W2 = init_w((n_hidden, n_latent))\n",
    "W1 = init_w((n_hidden, n_latent))\n"
   ]
  },
  {
   "cell_type": "code",
   "execution_count": 19,
   "metadata": {},
   "outputs": [],
   "source": [
    "# Gaussian Encoder\n",
    "x = T.matrix(\"x\")\n",
    "h_encoder = T.tanh(T.dot(x, W3) + b3)\n",
    "mu = T.dot(h_encoder, W1) + b1\n",
    "log_sig2 = T.dot(h_encoder, W2) + b2\n",
    "# This expression is simple (not an expectation) because we're using normal priors and posteriors\n",
    "DKL = (1.0 + log_sig2 - mu**2 - T.exp(log_sig2)).sum(axis = 1)/2.0"
   ]
  },
  {
   "cell_type": "code",
   "execution_count": 20,
   "metadata": {},
   "outputs": [],
   "source": [
    "# Bernoulli MLP weights and biases (decoder)\n",
    "bernoulli_b1 = init_w((n_hidden, ))\n",
    "bernoulli_b2 = init_w((n_input, ))\n",
    "\n",
    "bernoulli_W1 = init_w((n_latent, n_hidden))\n",
    "bernoulli_W2 = init_w((n_hidden, n_input))"
   ]
  },
  {
   "cell_type": "code",
   "execution_count": 21,
   "metadata": {},
   "outputs": [],
   "source": [
    "# Bernoulli Decoder\n",
    "std_normal = T.matrix(\"std_normal\") \n",
    "z = mu + T.sqrt(T.exp(log_sig2))*std_normal\n",
    "h_decoder = T.tanh(T.dot(z, bernoulli_W1) + bernoulli_b1)\n",
    "y = T.nnet.sigmoid(T.dot(h_decoder, bernoulli_W2) + bernoulli_b2)\n",
    "log_likelihood = -T.nnet.binary_crossentropy(y, x).sum(axis = 1)\n"
   ]
  },
  {
   "cell_type": "code",
   "execution_count": 22,
   "metadata": {},
   "outputs": [],
   "source": [
    "# Only the weight matrices W will be regularized (weight decay)\n",
    "W = [W3, W1, W2, bernoulli_W1, bernoulli_W2]\n",
    "b = [b3, b1, b2, bernoulli_b1, bernoulli_b2]\n",
    "params = W + b"
   ]
  },
  {
   "cell_type": "code",
   "execution_count": null,
   "metadata": {},
   "outputs": [],
   "source": [
    "'''ignore this cell'''\n",
    "# from tadacof github\n",
    "# Lower bound  # I think his original is wrong\n",
    "# no neg sign for lower bound but cost should be -lower bound\n",
    "lower_bound = -(DKL + log_likelihood).mean()\n",
    "# weight decay \n",
    "L2 = sum([(w**2).sum() for w in W])\n",
    "cost = lower_bound + batch_size/50000.0/2.0*L2\n"
   ]
  },
  {
   "cell_type": "code",
   "execution_count": 23,
   "metadata": {},
   "outputs": [],
   "source": [
    "# Our lb and cost\n",
    "lower_bound = (DKL + log_likelihood).mean()\n",
    "cost = -lower_bound"
   ]
  },
  {
   "cell_type": "code",
   "execution_count": 29,
   "metadata": {},
   "outputs": [],
   "source": [
    "updates = adagrad(cost, params, lr=0.02)"
   ]
  },
  {
   "cell_type": "code",
   "execution_count": 30,
   "metadata": {},
   "outputs": [
    {
     "name": "stderr",
     "output_type": "stream",
     "text": [
      "INFO (theano.gof.compilelock): Refreshing lock /home/jovyan/.theano/compiledir_Linux-4.4--generic-x86_64-with-debian-8.10--3.6.5-64/lock_dir/lock\n"
     ]
    }
   ],
   "source": [
    "train_model = theano.function(inputs=[x, std_normal], \n",
    "                              outputs=cost, \n",
    "                              updates=updates,\n",
    "                              mode='FAST_RUN',\n",
    "                              allow_input_downcast=True)\n",
    "                              \n",
    "eval_model = theano.function(inputs=[x, std_normal], outputs=lower_bound,\n",
    "                             mode='FAST_RUN',\n",
    "                             allow_input_downcast=True) "
   ]
  },
  {
   "cell_type": "code",
   "execution_count": 31,
   "metadata": {},
   "outputs": [],
   "source": [
    "training = []\n",
    "#validation = []\n",
    "for i in range(n_epochs):\n",
    "    minibatch_train = [ x_train[j] for j in np.random.randint(0,x_train.shape[0],batch_size) ]\n",
    "\n",
    "    #val_cost = eval_model(x_test, np.random.normal(size = (len(x_test), n_latent)))\n",
    "    train_cost = train_model(minibatch_train, np.random.normal(size = (batch_size, n_latent)))\n",
    "    \n",
    "    training.append(train_cost)\n",
    "    #validation.append(val_cost)    "
   ]
  },
  {
   "cell_type": "code",
   "execution_count": 32,
   "metadata": {},
   "outputs": [],
   "source": [
    "lb=[-i for i in training]"
   ]
  },
  {
   "cell_type": "code",
   "execution_count": 33,
   "metadata": {},
   "outputs": [
    {
     "data": {
      "text/plain": [
       "[<matplotlib.lines.Line2D at 0x7fc75b2c0f98>]"
      ]
     },
     "execution_count": 33,
     "metadata": {},
     "output_type": "execute_result"
    },
    {
     "data": {
      "image/png": "[encoded data removed]",
      "text/plain": [
       "<Figure size 432x288 with 1 Axes>"
      ]
     },
     "metadata": {},
     "output_type": "display_data"
    }
   ],
   "source": [
    "plt.ylabel(\"-Lower bound\")\n",
    "plt.xlabel(\"Minibatch (\" + str(batch_size) + \" samples)\")\n",
    "plt.plot(lb[300:])   #this below is RMSprop "
   ]
  },
  {
   "cell_type": "code",
   "execution_count": 122,
   "metadata": {},
   "outputs": [],
   "source": [
    "updates = adagrad(cost, params, lr=0.02)"
   ]
  },
  {
   "cell_type": "code",
   "execution_count": 123,
   "metadata": {},
   "outputs": [],
   "source": [
    "train_model_likelihood = theano.function(inputs=[x, std_normal], \n",
    "                              outputs=log_likelihood.mean(), \n",
    "                              updates=updates,\n",
    "                              mode='FAST_RUN',\n",
    "                              allow_input_downcast=True)"
   ]
  },
  {
   "cell_type": "code",
   "execution_count": 124,
   "metadata": {},
   "outputs": [],
   "source": [
    "training_likelihood = []\n",
    "#validation = []\n",
    "for i in range(n_epochs):\n",
    "    minibatch_train = [ x_train[j] for j in np.random.randint(0,x_train.shape[0],batch_size) ]\n",
    "\n",
    "    #val_cost = eval_model(x_test, np.random.normal(size = (len(x_test), n_latent)))\n",
    "    likelihood = train_model_likelihood(minibatch_train, np.random.normal(size = (batch_size, n_latent)))\n",
    "    \n",
    "    training_likelihood.append(likelihood)\n",
    "    #validation.append(val_cost)    "
   ]
  },
  {
   "cell_type": "code",
   "execution_count": 127,
   "metadata": {},
   "outputs": [
    {
     "data": {
      "text/plain": [
       "[<matplotlib.lines.Line2D at 0x7f745da26160>]"
      ]
     },
     "execution_count": 127,
     "metadata": {},
     "output_type": "execute_result"
    },
    {
     "data": {
      "image/png": "[encoded data removed]",
      "text/plain": [
       "<Figure size 432x288 with 1 Axes>"
      ]
     },
     "metadata": {},
     "output_type": "display_data"
    }
   ],
   "source": [
    "plt.ylabel(\"Log_likelihood\")\n",
    "plt.xlabel(\"Minibatch (\" + str(batch_size) + \" samples)\")\n",
    "plt.plot(training_likelihood)"
   ]
  },
  {
   "cell_type": "code",
   "execution_count": null,
   "metadata": {},
   "outputs": [],
   "source": []
  },
  {
   "cell_type": "code",
   "execution_count": null,
   "metadata": {},
   "outputs": [],
   "source": [
    "'''gaussian decoder and freyface starts next:'''"
   ]
  },
  {
   "cell_type": "code",
   "execution_count": 10,
   "metadata": {},
   "outputs": [],
   "source": [
    "from scipy.io import loadmat\n",
    "ff = loadmat('frey_rawface.mat', squeeze_me=True, struct_as_record=False)\n",
    "ff1 = ff[\"ff\"].T"
   ]
  },
  {
   "cell_type": "code",
   "execution_count": 52,
   "metadata": {},
   "outputs": [],
   "source": [
    "f_train=ff1[:1500,]\n",
    "f_test=ff1[1501:,]"
   ]
  },
  {
   "cell_type": "code",
   "execution_count": 12,
   "metadata": {},
   "outputs": [],
   "source": [
    "n_hidden = 100 # the size of hidden layers in MLP\n",
    "n_latent = 2 # the dimension of z\n",
    "n_input = f_train.shape[1] # the dimension of f's feature space\n",
    "batch_size = 100\n",
    "n_epochs = 100000"
   ]
  },
  {
   "cell_type": "code",
   "execution_count": 13,
   "metadata": {},
   "outputs": [],
   "source": [
    "def init_w(shape):\n",
    "    x = np.random.randn(*shape)\n",
    "    float_x = np.asarray(x * 0.01, dtype=theano.config.floatX)\n",
    "    return theano.shared(float_x)"
   ]
  },
  {
   "cell_type": "code",
   "execution_count": 14,
   "metadata": {},
   "outputs": [],
   "source": [
    "# Parameters\n",
    "# Gaussian MLP weights and biases (encoder)\n",
    "#initialize \\phi \n",
    "\n",
    "b3 = init_w((n_hidden, ))\n",
    "b2 = init_w((n_latent, ))\n",
    "b1 = init_w((n_latent, ))\n",
    "\n",
    "\n",
    "W3 = init_w((n_input, n_hidden))\n",
    "W2 = init_w((n_hidden, n_latent))\n",
    "W1 = init_w((n_hidden, n_latent))"
   ]
  },
  {
   "cell_type": "code",
   "execution_count": 15,
   "metadata": {},
   "outputs": [],
   "source": [
    "#Gaussian encoder\n",
    "x = T.matrix(\"x\")\n",
    "h_encoder = T.tanh(T.dot(x, W3) + b3)\n",
    "mu = T.dot(h_encoder, W1) + b1\n",
    "log_sig2 = T.dot(h_encoder, W2) + b2\n",
    "# This expression is simple (not an expectation) because we're using normal priors and posteriors\n",
    "DKL = (1.0 + log_sig2 - mu**2 - T.exp(log_sig2)).sum(axis = 1)/2.0"
   ]
  },
  {
   "cell_type": "code",
   "execution_count": 16,
   "metadata": {},
   "outputs": [],
   "source": [
    "# Parameters\n",
    "# Gaussian MLP weights and biases (decoder)\n",
    "#initialize \\theta\n",
    "\n",
    "b6 = init_w((n_hidden, ))\n",
    "b5 = init_w((n_input, ))\n",
    "b4 = init_w((n_input, ))\n",
    "\n",
    "\n",
    "W6 = init_w((n_latent, n_hidden))\n",
    "W5 = init_w((n_hidden, n_input))\n",
    "W4 = init_w((n_hidden, n_input))"
   ]
  },
  {
   "cell_type": "code",
   "execution_count": 17,
   "metadata": {},
   "outputs": [],
   "source": [
    "# Gaussian Decoder               --- ours!!!\n",
    "std_normal = T.matrix(\"std_normal\") \n",
    "z = mu + T.sqrt(T.exp(log_sig2))*std_normal\n",
    "h_decoder = T.tanh(T.dot(z, W6) + b6)\n",
    "mu_prime = T.dot(h_decoder, W4) + b4\n",
    "log_sig2_prime = T.dot(h_decoder, W5) + b5\n",
    "\n",
    "#log_likelihood_gaus=-0.5*(x.shape[1]*np.log(2*np.pi))-0.5*(x-mu_prime)**2/(np.exp(log_sig2_prime)).sum(axis=0)\n",
    "#log_likelihood_gaus=-0.5*(x.shape[1]*np.log(2*np.pi))-0.5*sum(log_sig2_prime)-0.5*(x-mu_prime)**2/(np.exp(log_sig2_prime)).sum(axis=1)\n",
    "#log_likelihood_gaus=(-0.5*(x.shape[1]*np.log(2*np.pi)))+(-0.5*(log_sig2_prime.sum(axis=0)))+((-0.5*(x-mu_prime)**2/(np.exp(log_sig2_prime))).sum(axis=0))\n"
   ]
  },
  {
   "cell_type": "code",
   "execution_count": 18,
   "metadata": {},
   "outputs": [],
   "source": [
    "log_likelihood_gaus= (-(0.5 * np.log(2 * np.pi) + 0.5 * log_sig2_prime) - 0.5 * ((x - mu_prime)**2 / T.exp(log_sig2_prime))).sum(axis=1).mean(axis=0)"
   ]
  },
  {
   "cell_type": "code",
   "execution_count": 19,
   "metadata": {},
   "outputs": [],
   "source": [
    "# Only the weight matrices W will be regularized (weight decay)\n",
    "W = [W3, W1, W2, W6, W4, W5]\n",
    "b = [b3, b1, b2, b6, b5, b4]\n",
    "params = W + b"
   ]
  },
  {
   "cell_type": "code",
   "execution_count": 20,
   "metadata": {},
   "outputs": [],
   "source": [
    "# Our lb and cost\n",
    "lower_bound = (DKL + log_likelihood_gaus).mean()\n",
    "#lower_bound=DKL.mean()\n",
    "cost = -lower_bound"
   ]
  },
  {
   "cell_type": "code",
   "execution_count": 21,
   "metadata": {},
   "outputs": [],
   "source": [
    "def adagrad(cost, params, lr=0.001, epsilon=1e-6):\n",
    "    grads = T.grad(cost=cost, wrt=params)\n",
    "    updates = []\n",
    "    for p, g in zip(params, grads):\n",
    "        acc = theano.shared(p.get_value() * 0.)\n",
    "        acc_new = acc + g ** 2\n",
    "        gradient_scaling = T.sqrt(acc_new + epsilon)\n",
    "        g = g / gradient_scaling\n",
    "        updates.append((acc, acc_new))\n",
    "        updates.append((p, p - lr * g))\n",
    "    return updates"
   ]
  },
  {
   "cell_type": "code",
   "execution_count": 22,
   "metadata": {},
   "outputs": [],
   "source": [
    "updates = adagrad(cost, params, lr=0.02)"
   ]
  },
  {
   "cell_type": "code",
   "execution_count": 23,
   "metadata": {},
   "outputs": [],
   "source": [
    "train_model = theano.function(inputs=[x, std_normal], \n",
    "                              outputs=cost, \n",
    "                              updates=updates,\n",
    "                              mode='FAST_RUN',\n",
    "                              allow_input_downcast=True)\n",
    "                              \n",
    "eval_model = theano.function(inputs=[x, std_normal], outputs=lower_bound,\n",
    "                             mode='FAST_RUN',\n",
    "                             allow_input_downcast=True) "
   ]
  },
  {
   "cell_type": "code",
   "execution_count": 34,
   "metadata": {},
   "outputs": [],
   "source": [
    "np.random.seed(1)\n",
    "training = []\n",
    "#validation = []\n",
    "for i in range(n_epochs):\n",
    "    minibatch_train = [ f_train[j] for j in np.random.randint(0,f_train.shape[0],batch_size) ]\n",
    "\n",
    "    #val_cost = eval_model(x_test, np.random.normal(size = (len(x_test), n_latent)))\n",
    "    train_cost = train_model(minibatch_train, np.random.normal(size = (batch_size, n_latent)))\n",
    "    \n",
    "    training.append(train_cost)\n",
    "    #validation.append(val_cost)    "
   ]
  },
  {
   "cell_type": "code",
   "execution_count": 35,
   "metadata": {},
   "outputs": [],
   "source": [
    "lb=[-i for i in training]"
   ]
  },
  {
   "cell_type": "code",
   "execution_count": 38,
   "metadata": {},
   "outputs": [
    {
     "data": {
      "text/plain": [
       "[<matplotlib.lines.Line2D at 0x7f10a36f3898>]"
      ]
     },
     "execution_count": 38,
     "metadata": {},
     "output_type": "execute_result"
    },
    {
     "data": {
      "image/png": "[encoded data removed]",
      "text/plain": [
       "<Figure size 432x288 with 1 Axes>"
      ]
     },
     "metadata": {},
     "output_type": "display_data"
    }
   ],
   "source": [
    "plt.ylabel(\"-Lower bound\")\n",
    "plt.xlabel(\"Minibatch (\" + str(batch_size) + \" samples)\")\n",
    "plt.plot(lb[500:],)"
   ]
  },
  {
   "cell_type": "code",
   "execution_count": 27,
   "metadata": {},
   "outputs": [],
   "source": [
    "updates = adagrad(cost, params, lr=0.02)"
   ]
  },
  {
   "cell_type": "code",
   "execution_count": 28,
   "metadata": {},
   "outputs": [],
   "source": [
    "train_model_likelihood = theano.function(inputs=[x, std_normal], \n",
    "                              outputs=log_likelihood_gaus, \n",
    "                              updates=updates,\n",
    "                              mode='FAST_RUN',\n",
    "                              allow_input_downcast=True)"
   ]
  },
  {
   "cell_type": "code",
   "execution_count": 29,
   "metadata": {},
   "outputs": [],
   "source": [
    "training_likelihood = []\n",
    "#validation = []\n",
    "for i in range(n_epochs):\n",
    "    minibatch_train = [ f_train[j] for j in np.random.randint(0,f_train.shape[0],batch_size) ]\n",
    "\n",
    "    #val_cost = eval_model(x_test, np.random.normal(size = (len(x_test), n_latent)))\n",
    "    likelihood = train_model_likelihood(minibatch_train, np.random.normal(size = (batch_size, n_latent)))\n",
    "    \n",
    "    training_likelihood.append(likelihood)\n",
    "    #validation.append(val_cost)    "
   ]
  },
  {
   "cell_type": "code",
   "execution_count": 30,
   "metadata": {},
   "outputs": [
    {
     "data": {
      "text/plain": [
       "array(-2526.64434441)"
      ]
     },
     "execution_count": 30,
     "metadata": {},
     "output_type": "execute_result"
    }
   ],
   "source": [
    "training_likelihood[5000]"
   ]
  },
  {
   "cell_type": "code",
   "execution_count": 39,
   "metadata": {},
   "outputs": [
    {
     "data": {
      "text/plain": [
       "[<matplotlib.lines.Line2D at 0x7f10a364fc50>]"
      ]
     },
     "execution_count": 39,
     "metadata": {},
     "output_type": "execute_result"
    },
    {
     "data": {
      "image/png": "[encoded data removed]",
      "text/plain": [
       "<Figure size 432x288 with 1 Axes>"
      ]
     },
     "metadata": {},
     "output_type": "display_data"
    }
   ],
   "source": [
    "plt.ylabel(\"likelihood\")\n",
    "plt.xlabel(\"Minibatch (\" + str(batch_size) + \" samples)\")\n",
    "plt.plot(training_likelihood[500:])"
   ]
  },
  {
   "cell_type": "code",
   "execution_count": 40,
   "metadata": {},
   "outputs": [],
   "source": [
    "# Extract estimated parameters (W, b)\n",
    "est_W3 = updates[1][0].get_value()\n",
    "est_W1 = updates[3][0].get_value()\n",
    "est_W2 = updates[5][0].get_value()\n",
    "est_W6 = updates[7][0].get_value()\n",
    "est_W4 = updates[9][0].get_value()\n",
    "est_W5 = updates[11][0].get_value()\n",
    "\n",
    "est_b3 = updates[13][0].get_value()\n",
    "est_b1 = updates[15][0].get_value()\n",
    "est_b2 = updates[17][0].get_value()\n",
    "est_b6 = updates[19][0].get_value()\n",
    "est_b4 = updates[21][0].get_value()\n",
    "est_b5 = updates[23][0].get_value()"
   ]
  },
  {
   "cell_type": "code",
   "execution_count": 41,
   "metadata": {},
   "outputs": [],
   "source": [
    "est_h_encoder = np.tanh(np.dot(f_test, est_W3) + est_b3)\n",
    "phi_mu = np.dot(est_h_encoder, est_W1) + est_b1\n",
    "phi_log_sig2 = np.dot(est_h_encoder, est_W2) + est_b2"
   ]
  },
  {
   "cell_type": "code",
   "execution_count": 42,
   "metadata": {},
   "outputs": [],
   "source": [
    "z_test = phi_mu + np.sqrt(np.exp(phi_log_sig2))*np.random.randn(phi_log_sig2.shape[0], phi_log_sig2.shape[1])"
   ]
  },
  {
   "cell_type": "code",
   "execution_count": 43,
   "metadata": {},
   "outputs": [],
   "source": [
    "est_h_decoder=np.tanh(np.dot(z_test,est_W6)+ est_b6)\n",
    "theta_mu = np.dot(est_h_decoder,est_W4) + est_b4\n",
    "theta_log_sig2=np.dot(est_h_decoder, est_W5) + est_b5"
   ]
  },
  {
   "cell_type": "code",
   "execution_count": 45,
   "metadata": {},
   "outputs": [
    {
     "data": {
      "text/plain": [
       "(464, 560)"
      ]
     },
     "execution_count": 45,
     "metadata": {},
     "output_type": "execute_result"
    }
   ],
   "source": [
    "theta_log_sig2.shape"
   ]
  },
  {
   "cell_type": "code",
   "execution_count": 46,
   "metadata": {},
   "outputs": [],
   "source": [
    "f_new=np.random.normal(theta_mu,theta_log_sig2,[theta_mu.shape[0],theta_mu.shape[1]])"
   ]
  },
  {
   "cell_type": "code",
   "execution_count": 47,
   "metadata": {},
   "outputs": [
    {
     "data": {
      "text/plain": [
       "(464, 560)"
      ]
     },
     "execution_count": 47,
     "metadata": {},
     "output_type": "execute_result"
    }
   ],
   "source": [
    "f_new.shape"
   ]
  },
  {
   "cell_type": "code",
   "execution_count": 57,
   "metadata": {},
   "outputs": [
    {
     "data": {
      "image/png": "[encoded data removed]",
      "text/plain": [
       "<Figure size 432x288 with 10 Axes>"
      ]
     },
     "metadata": {},
     "output_type": "display_data"
    }
   ],
   "source": [
    "f_test1 = f_test.reshape([464, 28, 20])\n",
    "for i in range(10):\n",
    "    plt.subplot(2,5,i+1)\n",
    "    plt.imshow(f_test1[i], cmap='gray')\n",
    "    plt.xticks([])\n",
    "    plt.yticks([])\n",
    "plt.tight_layout()"
   ]
  },
  {
   "cell_type": "code",
   "execution_count": 58,
   "metadata": {},
   "outputs": [
    {
     "data": {
      "image/png": "[encoded data removed]",
      "text/plain": [
       "<Figure size 432x288 with 10 Axes>"
      ]
     },
     "metadata": {},
     "output_type": "display_data"
    }
   ],
   "source": [
    "f_new1 = f_new.reshape([464, 28, 20])\n",
    "for i in range(10):\n",
    "    plt.subplot(2,5,i+1)\n",
    "    plt.imshow(f_new1[i], cmap='gray')\n",
    "    plt.xticks([])\n",
    "    plt.yticks([])\n",
    "plt.tight_layout()"
   ]
  },
  {
   "cell_type": "code",
   "execution_count": null,
   "metadata": {},
   "outputs": [],
   "source": []
  }
 ],
 "metadata": {
  "kernelspec": {
   "display_name": "Python 3",
   "language": "python",
   "name": "python3"
  },
  "language_info": {
   "codemirror_mode": {
    "name": "ipython",
    "version": 3
   },
   "file_extension": ".py",
   "mimetype": "text/x-python",
   "name": "python",
   "nbconvert_exporter": "python",
   "pygments_lexer": "ipython3",
   "version": "3.6.5"
  }
 },
 "nbformat": 4,
 "nbformat_minor": 2
}
