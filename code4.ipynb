{
 "cells": [
  {
   "cell_type": "code",
   "execution_count": 1,
   "metadata": {},
   "outputs": [],
   "source": [
    "%matplotlib inline\n",
    "import matplotlib.pyplot as plt\n",
    "import numpy as np\n",
    "import sklearn.preprocessing\n",
    "import sklearn.neural_network"
   ]
  },
  {
   "cell_type": "code",
   "execution_count": 2,
   "metadata": {},
   "outputs": [],
   "source": [
    "import warnings\n",
    "warnings.simplefilter(action='ignore', category=FutureWarning)\n",
    "import h5py\n",
    "warnings.resetwarnings()\n",
    "warnings.simplefilter(action='ignore', category=ImportWarning)\n",
    "warnings.simplefilter(action='ignore', category=RuntimeWarning)\n",
    "warnings.simplefilter(action='ignore', category=DeprecationWarning)\n",
    "warnings.simplefilter(action='ignore', category=ResourceWarning)"
   ]
  },
  {
   "cell_type": "code",
   "execution_count": 3,
   "metadata": {},
   "outputs": [
    {
     "name": "stderr",
     "output_type": "stream",
     "text": [
      "WARNING (theano.configdefaults): install mkl with `conda install mkl-service`: No module named 'mkl'\n"
     ]
    }
   ],
   "source": [
    "import theano\n",
    "import theano.tensor as T"
   ]
  },
  {
   "cell_type": "code",
   "execution_count": 5,
   "metadata": {},
   "outputs": [],
   "source": [
    "import pickle, gzip\n",
    "f = gzip.open('mnist.pkl.gz','rb')\n",
    "train_set, valid_set, test_set = pickle.load(f,encoding='latin-1')\n",
    "f.close()"
   ]
  },
  {
   "cell_type": "code",
   "execution_count": 28,
   "metadata": {},
   "outputs": [],
   "source": [
    "x_train=theano.function([], T.concatenate([train_set[0], valid_set[0]]))()"
   ]
  },
  {
   "cell_type": "code",
   "execution_count": 30,
   "metadata": {},
   "outputs": [],
   "source": [
    "x_test = theano.function([], theano.shared(test_set[0]))()"
   ]
  },
  {
   "cell_type": "code",
   "execution_count": 32,
   "metadata": {},
   "outputs": [],
   "source": [
    "n_hidden = 100 # the size of hidden layers in MLP\n",
    "n_latent = 2 # the dimension of z\n",
    "n_input = x_train.shape[1] # the dimension of x's feature space\n",
    "batch_size = 100\n",
    "n_epochs = 10000"
   ]
  },
  {
   "cell_type": "code",
   "execution_count": 33,
   "metadata": {},
   "outputs": [],
   "source": [
    "def init_w(shape):\n",
    "    x = np.random.randn(*shape)\n",
    "    float_x = np.asarray(x * 0.01, dtype=theano.config.floatX)\n",
    "    return theano.shared(float_x)"
   ]
  },
  {
   "cell_type": "code",
   "execution_count": 34,
   "metadata": {},
   "outputs": [],
   "source": [
    "# Parameters\n",
    "# Gaussian MLP weights and biases (encoder)\n",
    "#initialize \\phi \n",
    "\n",
    "b3 = init_w((n_hidden, ))\n",
    "b2 = init_w((n_latent, ))\n",
    "b1 = init_w((n_latent, ))\n",
    "\n",
    "\n",
    "W3 = init_w((n_input, n_hidden))\n",
    "W2 = init_w((n_hidden, n_latent))\n",
    "W1 = init_w((n_hidden, n_latent))\n"
   ]
  },
  {
   "cell_type": "code",
   "execution_count": 35,
   "metadata": {},
   "outputs": [],
   "source": [
    "# Gaussian Encoder\n",
    "x = T.matrix(\"x\")\n",
    "h_encoder = T.tanh(T.dot(x, W3) + b3)\n",
    "mu = T.dot(h_encoder, W1) + b1\n",
    "log_sig2 = T.dot(h_encoder, W2) + b2\n",
    "# This expression is simple (not an expectation) because we're using normal priors and posteriors\n",
    "DKL = (1.0 + log_sig2 - mu**2 - T.exp(log_sig2)).sum(axis = 1)/2.0"
   ]
  },
  {
   "cell_type": "code",
   "execution_count": 36,
   "metadata": {},
   "outputs": [],
   "source": [
    "# Bernoulli MLP weights and biases (decoder)\n",
    "bernoulli_b1 = init_w((n_hidden, ))\n",
    "bernoulli_b2 = init_w((n_input, ))\n",
    "\n",
    "bernoulli_W1 = init_w((n_latent, n_hidden))\n",
    "bernoulli_W2 = init_w((n_hidden, n_input))"
   ]
  },
  {
   "cell_type": "code",
   "execution_count": 37,
   "metadata": {},
   "outputs": [],
   "source": [
    "# Bernoulli Decoder\n",
    "std_normal = T.matrix(\"std_normal\") \n",
    "z = mu + T.sqrt(T.exp(log_sig2))*std_normal\n",
    "h_decoder = T.tanh(T.dot(z, bernoulli_W1) + bernoulli_b1)\n",
    "y = T.nnet.sigmoid(T.dot(h_decoder, bernoulli_W2) + bernoulli_b2)\n",
    "log_likelihood = -T.nnet.binary_crossentropy(y, x).sum(axis = 1)\n"
   ]
  },
  {
   "cell_type": "code",
   "execution_count": 38,
   "metadata": {},
   "outputs": [],
   "source": [
    "# Only the weight matrices W will be regularized (weight decay)\n",
    "W = [W3, W1, W2, bernoulli_W1, bernoulli_W2]\n",
    "b = [b3, b1, b2, bernoulli_b1, bernoulli_b2]\n",
    "params = W + b"
   ]
  },
  {
   "cell_type": "code",
   "execution_count": null,
   "metadata": {},
   "outputs": [],
   "source": [
    "'''ignore this cell'''\n",
    "# from tadacof github\n",
    "# Lower bound  # I think his original is wrong\n",
    "# no neg sign for lower bound but cost should be -lower bound\n",
    "lower_bound = -(DKL + log_likelihood).mean()\n",
    "# weight decay \n",
    "L2 = sum([(w**2).sum() for w in W])\n",
    "cost = lower_bound + batch_size/50000.0/2.0*L2\n"
   ]
  },
  {
   "cell_type": "code",
   "execution_count": 39,
   "metadata": {},
   "outputs": [],
   "source": [
    "# Our lb and cost\n",
    "lower_bound = (DKL + log_likelihood).mean()\n",
    "cost = -lower_bound"
   ]
  },
  {
   "cell_type": "code",
   "execution_count": 40,
   "metadata": {},
   "outputs": [],
   "source": [
    "def adagrad(cost, params, lr=0.001, epsilon=1e-6):\n",
    "    grads = T.grad(cost=cost, wrt=params)\n",
    "    updates = []\n",
    "    for p, g in zip(params, grads):\n",
    "        acc = theano.shared(p.get_value() * 0.)\n",
    "        acc_new = acc + g ** 2\n",
    "        gradient_scaling = T.sqrt(acc_new + epsilon)\n",
    "        g = g / gradient_scaling\n",
    "        updates.append((acc, acc_new))\n",
    "        updates.append((p, p - lr * g))\n",
    "    return updates"
   ]
  },
  {
   "cell_type": "code",
   "execution_count": 41,
   "metadata": {},
   "outputs": [],
   "source": [
    "updates = adagrad(lower_bound, params, lr=0.02)"
   ]
  },
  {
   "cell_type": "code",
   "execution_count": 42,
   "metadata": {},
   "outputs": [],
   "source": [
    "train_model = theano.function(inputs=[x, std_normal], \n",
    "                              outputs=cost, \n",
    "                              updates=updates,\n",
    "                              mode='FAST_RUN',\n",
    "                              allow_input_downcast=True)\n",
    "                              \n",
    "eval_model = theano.function(inputs=[x, std_normal], outputs=lower_bound,\n",
    "                             mode='FAST_RUN',\n",
    "                             allow_input_downcast=True) "
   ]
  },
  {
   "cell_type": "code",
   "execution_count": null,
   "metadata": {},
   "outputs": [],
   "source": [
    "training = []\n",
    "validation = []\n",
    "for i in range(n_epochs):\n",
    "    minibatch_train = [ x_train[j] for j in np.random.randint(0,x_train.shape[0],batch_size) ]\n",
    "\n",
    "    val_cost = eval_model(x_test, np.random.normal(size = (len(x_test), n_latent)))\n",
    "    train_cost = train_model(minibatch_train, np.random.normal(size = (batch_size, n_latent)))\n",
    "    \n",
    "    training.append(train_cost)\n",
    "    validation.append(val_cost)    "
   ]
  },
  {
   "cell_type": "code",
   "execution_count": null,
   "metadata": {},
   "outputs": [],
   "source": [
    "'''gaussian decoder and freyface starts next:'''"
   ]
  },
  {
   "cell_type": "code",
   "execution_count": 8,
   "metadata": {},
   "outputs": [],
   "source": [
    "from scipy.io import loadmat\n",
    "ff = loadmat('frey_rawface.mat', squeeze_me=True, struct_as_record=False)\n",
    "ff1 = ff[\"ff\"].T"
   ]
  },
  {
   "cell_type": "code",
   "execution_count": 10,
   "metadata": {},
   "outputs": [],
   "source": [
    "f_train=ff1[:1500,]\n",
    "f_test=ff1[1501:,]"
   ]
  },
  {
   "cell_type": "code",
   "execution_count": 28,
   "metadata": {},
   "outputs": [],
   "source": [
    "x=f_train"
   ]
  },
  {
   "cell_type": "code",
   "execution_count": 36,
   "metadata": {},
   "outputs": [
    {
     "data": {
      "text/plain": [
       "560"
      ]
     },
     "execution_count": 36,
     "metadata": {},
     "output_type": "execute_result"
    }
   ],
   "source": [
    "x.shape[1]"
   ]
  },
  {
   "cell_type": "code",
   "execution_count": null,
   "metadata": {},
   "outputs": [],
   "source": [
    "std_normal = T.matrix(\"std_normal\") \n",
    "z = mu + T.sqrt(T.exp(log_sig2))*std_normal\n",
    "h_decoder = T.tanh(T.dot(z, W6) + b6)\n",
    "mu_prime = T.dot(h_decoder, W4) + b4\n",
    "log_sig2_prime = T.dot(h_decoder, W5) + b5"
   ]
  },
  {
   "cell_type": "code",
   "execution_count": 35,
   "metadata": {},
   "outputs": [
    {
     "data": {
      "text/plain": [
       "Sum{acc_dtype=float64}.0"
      ]
     },
     "execution_count": 35,
     "metadata": {},
     "output_type": "execute_result"
    }
   ],
   "source": [
    "T.sum(log_sig2_prime)"
   ]
  },
  {
   "cell_type": "code",
   "execution_count": 33,
   "metadata": {},
   "outputs": [
    {
     "data": {
      "text/plain": [
       "Sum{axis=[1], acc_dtype=float64}.0"
      ]
     },
     "execution_count": 33,
     "metadata": {},
     "output_type": "execute_result"
    }
   ],
   "source": [
    "log_sig2_prime.sum(axis=1)"
   ]
  },
  {
   "cell_type": "code",
   "execution_count": 37,
   "metadata": {},
   "outputs": [
    {
     "data": {
      "text/plain": [
       "Elemwise{sub,no_inplace}.0"
      ]
     },
     "execution_count": 37,
     "metadata": {},
     "output_type": "execute_result"
    }
   ],
   "source": [
    "# our logpxz\n",
    "\n",
    "-0.5*(x.shape[1]*np.log(2*np.pi))-0.5*(log_sig2_prime.sum(axis=1))-0.5*(x-mu_prime)**2/(np.exp(log_sig2_prime)).sum(axis=1)"
   ]
  },
  {
   "cell_type": "code",
   "execution_count": 40,
   "metadata": {},
   "outputs": [
    {
     "data": {
      "text/plain": [
       "mean"
      ]
     },
     "execution_count": 40,
     "metadata": {},
     "output_type": "execute_result"
    }
   ],
   "source": [
    "#from VAE github:y0st\n",
    "# had to change axis=2 to 1,  SOOO unreliable this guy!!  I would use ours!\n",
    "logpxz = (-(0.5 * np.log(2 * np.pi) + 0.5 * log_sig2_prime) - 0.5 * ((x - mu_prime)**2 / T.exp(log_sig2_prime))).sum(axis=1).mean(axis=0)\n",
    "logpxz"
   ]
  },
  {
   "cell_type": "code",
   "execution_count": 26,
   "metadata": {},
   "outputs": [],
   "source": [
    "# Parameters\n",
    "# Gaussian MLP weights and biases (decoder)\n",
    "#initialize \\theta\n",
    "\n",
    "b6 = init_w((n_hidden, ))\n",
    "b5 = init_w((n_input, ))\n",
    "b4 = init_w((n_input, ))\n",
    "\n",
    "\n",
    "W6 = init_w((n_latent, n_hidden))\n",
    "W5 = init_w((n_hidden, n_input))\n",
    "W4 = init_w((n_hidden, n_input))"
   ]
  },
  {
   "cell_type": "code",
   "execution_count": 16,
   "metadata": {},
   "outputs": [],
   "source": [
    "# Gaussian Decoder               --- ours!!!\n",
    "std_normal = T.matrix(\"std_normal\") \n",
    "z = mu + T.sqrt(T.exp(log_sig2))*std_normal\n",
    "h_decoder = T.tanh(T.dot(z, W6) + b6)\n",
    "mu_prime = T.dot(h_decoder, W4) + b4\n",
    "log_sig2_prime = T.dot(h_decoder, W5) + b5\n",
    "log_likelihood_gaus=-0.5*(x.shape[1]*np.log(2*np.pi))-0.5*(log_sig2_prime.sum(axis=1))-0.5*(x-mu_prime)**2/(np.exp(log_sig2_prime)).sum(axis=1)"
   ]
  },
  {
   "cell_type": "code",
   "execution_count": null,
   "metadata": {},
   "outputs": [],
   "source": []
  },
  {
   "cell_type": "code",
   "execution_count": null,
   "metadata": {},
   "outputs": [],
   "source": []
  }
 ],
 "metadata": {
  "kernelspec": {
   "display_name": "Python 3",
   "language": "python",
   "name": "python3"
  },
  "language_info": {
   "codemirror_mode": {
    "name": "ipython",
    "version": 3
   },
   "file_extension": ".py",
   "mimetype": "text/x-python",
   "name": "python",
   "nbconvert_exporter": "python",
   "pygments_lexer": "ipython3",
   "version": "3.6.5"
  }
 },
 "nbformat": 4,
 "nbformat_minor": 2
}
