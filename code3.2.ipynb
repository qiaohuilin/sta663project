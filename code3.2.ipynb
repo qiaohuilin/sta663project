{
 "cells": [
  {
   "cell_type": "code",
   "execution_count": 1,
   "metadata": {},
   "outputs": [],
   "source": [
    "%matplotlib inline\n",
    "import matplotlib.pyplot as plt\n",
    "import numpy as np\n",
    "import sklearn.preprocessing\n",
    "import sklearn.neural_network"
   ]
  },
  {
   "cell_type": "code",
   "execution_count": 2,
   "metadata": {},
   "outputs": [],
   "source": [
    "import warnings\n",
    "warnings.simplefilter(action='ignore', category=FutureWarning)\n",
    "import h5py\n",
    "warnings.resetwarnings()\n",
    "warnings.simplefilter(action='ignore', category=ImportWarning)\n",
    "warnings.simplefilter(action='ignore', category=RuntimeWarning)\n",
    "warnings.simplefilter(action='ignore', category=DeprecationWarning)\n",
    "warnings.simplefilter(action='ignore', category=ResourceWarning)"
   ]
  },
  {
   "cell_type": "code",
   "execution_count": 3,
   "metadata": {},
   "outputs": [
    {
     "name": "stderr",
     "output_type": "stream",
     "text": [
      "WARNING (theano.configdefaults): install mkl with `conda install mkl-service`: No module named 'mkl'\n"
     ]
    }
   ],
   "source": [
    "import theano\n",
    "import theano.tensor as T"
   ]
  },
  {
   "cell_type": "code",
   "execution_count": 4,
   "metadata": {},
   "outputs": [
    {
     "name": "stderr",
     "output_type": "stream",
     "text": [
      "Using TensorFlow backend.\n"
     ]
    }
   ],
   "source": [
    "from keras.datasets import mnist"
   ]
  },
  {
   "cell_type": "code",
   "execution_count": 5,
   "metadata": {},
   "outputs": [],
   "source": [
    "(train_data, train_labels), (test_data, test_labels) = mnist.load_data()"
   ]
  },
  {
   "cell_type": "code",
   "execution_count": 6,
   "metadata": {},
   "outputs": [
    {
     "data": {
      "text/plain": [
       "(60000, 28, 28)"
      ]
     },
     "execution_count": 6,
     "metadata": {},
     "output_type": "execute_result"
    }
   ],
   "source": [
    "train_data.shape"
   ]
  },
  {
   "cell_type": "code",
   "execution_count": 7,
   "metadata": {},
   "outputs": [
    {
     "data": {
      "text/plain": [
       "(10000, 28, 28)"
      ]
     },
     "execution_count": 7,
     "metadata": {},
     "output_type": "execute_result"
    }
   ],
   "source": [
    "test_data.shape"
   ]
  },
  {
   "cell_type": "code",
   "execution_count": 8,
   "metadata": {},
   "outputs": [],
   "source": [
    "#reshape and standardize\n",
    "x=train_data\n",
    "y=test_data\n",
    "xres=x.reshape(60000,-1)\n",
    "yres=y.reshape(10000,-1)\n",
    "xsd=sklearn.preprocessing.normalize(xres,axis=0)\n",
    "ysd=sklearn.preprocessing.normalize(yres,axis=0)"
   ]
  },
  {
   "cell_type": "code",
   "execution_count": 9,
   "metadata": {},
   "outputs": [
    {
     "data": {
      "text/plain": [
       "(60000, 784)"
      ]
     },
     "execution_count": 9,
     "metadata": {},
     "output_type": "execute_result"
    }
   ],
   "source": [
    "xsd.shape"
   ]
  },
  {
   "cell_type": "code",
   "execution_count": 10,
   "metadata": {},
   "outputs": [],
   "source": [
    "n_hidden = 100 # the size of hidden layers in MLP\n",
    "n_latent = 2 # the dimension of z\n",
    "n_input = train_data.shape[1] # the dimension of x's feature space"
   ]
  },
  {
   "cell_type": "code",
   "execution_count": 11,
   "metadata": {},
   "outputs": [],
   "source": [
    "def init_w(shape):\n",
    "    x = np.random.randn(*shape)\n",
    "    float_x = np.asarray(x * 0.01, dtype=theano.config.floatX)\n",
    "    return theano.shared(float_x)"
   ]
  },
  {
   "cell_type": "code",
   "execution_count": 12,
   "metadata": {},
   "outputs": [],
   "source": [
    "# Parameters\n",
    "# Gaussian MLP weights and biases (encoder)\n",
    "#initialize \\phi \n",
    "\n",
    "b3 = init_w((n_hidden, ))\n",
    "b2 = init_w((n_latent, ))\n",
    "b1 = init_w((n_latent, ))\n",
    "\n",
    "\n",
    "W3 = init_w((n_input, n_hidden))\n",
    "W2 = init_w((n_hidden, n_latent))\n",
    "W1 = init_w((n_hidden, n_latent))\n"
   ]
  },
  {
   "cell_type": "code",
   "execution_count": null,
   "metadata": {},
   "outputs": [],
   "source": [
    "# Only the weight matrices W will be regularized (weight decay)\n",
    "W = [gaussian_Wh, mu_Wo, sigma_Wo, bernoulli_Wh, bernoulli_Wo]\n",
    "b = [gaussian_bh, mu_bo, sigma_bo, bernoulli_bh, bernoulli_bo]\n",
    "params = W + b"
   ]
  },
  {
   "cell_type": "code",
   "execution_count": 13,
   "metadata": {},
   "outputs": [],
   "source": [
    "# Gaussian Encoder\n",
    "x = T.matrix(\"x\")\n",
    "h_encoder = T.tanh(T.dot(x, W3) + b3)\n",
    "mu = T.dot(h_encoder, W1) + b1\n",
    "log_sig2 = T.dot(h_encoder, W2) + b2\n",
    "# This expression is simple (not an expectation) because we're using normal priors and posteriors\n",
    "DKL = (1.0 + log_sig2 - mu**2 - T.exp(log_sig2)).sum(axis = 1)/2.0"
   ]
  },
  {
   "cell_type": "code",
   "execution_count": 14,
   "metadata": {},
   "outputs": [],
   "source": [
    "# Parameters\n",
    "# Gaussian MLP weights and biases (encoder)\n",
    "#initialize \\theta\n",
    "\n",
    "b6 = init_w((n_hidden, ))\n",
    "b5 = init_w((n_input, ))\n",
    "b4 = init_w((n_input, ))\n",
    "\n",
    "\n",
    "W6 = init_w((n_latent, n_hidden))\n",
    "W5 = init_w((n_hidden, n_input))\n",
    "W4 = init_w((n_hidden, n_input))"
   ]
  },
  {
   "cell_type": "code",
   "execution_count": 26,
   "metadata": {},
   "outputs": [
    {
     "name": "stdout",
     "output_type": "stream",
     "text": [
      "Cloning into 'DeepLearningTutorials'...\n",
      "remote: Counting objects: 4165, done.\u001b[K\n",
      "remote: Total 4165 (delta 0), reused 0 (delta 0), pack-reused 4165\u001b[K\n",
      "Receiving objects: 100% (4165/4165), 7.71 MiB | 0 bytes/s, done.\n",
      "Resolving deltas: 100% (2549/2549), done.\n",
      "Checking connectivity... done.\n"
     ]
    }
   ],
   "source": [
    "!git clone https://github.com/lisa-lab/DeepLearningTutorials.git"
   ]
  },
  {
   "cell_type": "code",
   "execution_count": 38,
   "metadata": {},
   "outputs": [
    {
     "name": "stdout",
     "output_type": "stream",
     "text": [
      "code1.1.ipynb  code1.ipynb  code3.1.ipynb  \u001b[0m\u001b[01;34mDeepLearningTutorials\u001b[0m/  mnist.pkl.gz\r\n",
      "code1.2.ipynb  code2.ipynb  code3.ipynb    final+project.ipynb\r\n"
     ]
    }
   ],
   "source": [
    "ls"
   ]
  },
  {
   "cell_type": "code",
   "execution_count": 5,
   "metadata": {},
   "outputs": [],
   "source": [
    "import pickle, gzip\n",
    "f = gzip.open('mnist.pkl.gz','rb')\n",
    "train_set, valid_set, test_set = pickle.load(f,encoding='latin-1')\n",
    "f.close()"
   ]
  },
  {
   "cell_type": "code",
   "execution_count": 16,
   "metadata": {},
   "outputs": [],
   "source": [
    "# Gaussian Decoder\n",
    "std_normal = T.matrix(\"std_normal\") \n",
    "z = mu + T.sqrt(T.exp(log_sig2))*std_normal\n",
    "h_decoder = T.tanh(T.dot(z, W6) + b6)\n",
    "mu_prime = T.dot(h_decoder, W4) + b4\n",
    "log_sig2_prime = T.dot(h_decoder, W5) + b5\n",
    "log_likelihood_gaus="
   ]
  },
  {
   "cell_type": "code",
   "execution_count": 17,
   "metadata": {},
   "outputs": [],
   "source": [
    "# Bernoulli MLP weights and biases (decoder)\n",
    "bernoulli_b1 = init_w((n_hidden, ))\n",
    "bernoulli_b2 = init_w((n_input, ))\n",
    "\n",
    "bernoulli_W1 = init_w((n_latent, n_hidden))\n",
    "bernoulli_W2 = init_w((n_hidden, n_input))"
   ]
  },
  {
   "cell_type": "code",
   "execution_count": 18,
   "metadata": {},
   "outputs": [],
   "source": [
    "# Bernoulli Decoder\n",
    "std_normal = T.matrix(\"std_normal\") \n",
    "z = mu + T.sqrt(T.exp(log_sig2))*std_normal\n",
    "h_decoder = T.tanh(T.dot(z, bernoulli_W1) + bernoulli_b1)\n",
    "y = T.nnet.sigmoid(T.dot(h_decoder, bernoulli_W2) + bernoulli_b2)\n",
    "log_likelihood = -T.nnet.binary_crossentropy(y, x).sum(axis = 1)\n"
   ]
  },
  {
   "cell_type": "code",
   "execution_count": null,
   "metadata": {},
   "outputs": [],
   "source": [
    "# Lower bound\n",
    "lower_bound = -(DKL + log_likelihood).mean()\n",
    "# Weight decay\n",
    "L2 = sum([(w**2).sum() for w in W])\n",
    "cost = lower_bound + batch_size/50000.0/2.0*L2"
   ]
  },
  {
   "cell_type": "code",
   "execution_count": null,
   "metadata": {},
   "outputs": [],
   "source": [
    "def adagrad(cost, params, lr=0.001, epsilon=1e-6):\n",
    "    grads = T.grad(cost=cost, wrt=params)\n",
    "    updates = []\n",
    "    for p, g in zip(params, grads):\n",
    "        acc = theano.shared(p.get_value() * 0.)\n",
    "        acc_new = acc + g ** 2\n",
    "        gradient_scaling = T.sqrt(acc_new + epsilon)\n",
    "        g = g / gradient_scaling\n",
    "        updates.append((acc, acc_new))\n",
    "        updates.append((p, p - lr * g))\n",
    "    return updates"
   ]
  },
  {
   "cell_type": "code",
   "execution_count": null,
   "metadata": {},
   "outputs": [],
   "source": [
    "updates = adagrad(lower_bound, params, lr=0.02)"
   ]
  },
  {
   "cell_type": "code",
   "execution_count": null,
   "metadata": {},
   "outputs": [],
   "source": [
    "train_model = theano.function(inputs=[x, std_normal], \n",
    "                              outputs=cost, \n",
    "                              updates=updates,\n",
    "                              mode='FAST_RUN',\n",
    "                              allow_input_downcast=True)\n",
    "                              \n",
    "eval_model = theano.function(inputs=[x, std_normal], outputs=lower_bound,\n",
    "                             mode='FAST_RUN',\n",
    "                             allow_input_downcast=True) "
   ]
  },
  {
   "cell_type": "code",
   "execution_count": null,
   "metadata": {},
   "outputs": [],
   "source": []
  },
  {
   "cell_type": "code",
   "execution_count": null,
   "metadata": {},
   "outputs": [],
   "source": []
  }
 ],
 "metadata": {
  "kernelspec": {
   "display_name": "Python 3",
   "language": "python",
   "name": "python3"
  },
  "language_info": {
   "codemirror_mode": {
    "name": "ipython",
    "version": 3
   },
   "file_extension": ".py",
   "mimetype": "text/x-python",
   "name": "python",
   "nbconvert_exporter": "python",
   "pygments_lexer": "ipython3",
   "version": "3.6.5"
  }
 },
 "nbformat": 4,
 "nbformat_minor": 2
}
